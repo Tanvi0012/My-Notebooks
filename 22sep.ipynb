{
 "cells": [
  {
   "cell_type": "code",
   "execution_count": 2,
   "id": "550c171a-13c8-40dc-847e-490d25a01101",
   "metadata": {},
   "outputs": [],
   "source": [
    "#Write a function called remainder that takes in parameters x and y (where u defaults to 4) and returns the remainder of x/4. Ignore cases for x is negative or y is less that or equal to 0\n",
    "#Write a python function that prints out the first n rows of pascal triangle\n",
    "#Write a function sumPdivisors() that finds the sum of proper divisors of a number\n",
    "#Write a menu driven program using functions to perform calculator operators such as adding, subtracting and dividing 2 integers.\n",
    "#Write a program using the functions C(n,r) calculating the CI given principle and roi, number of years and return the values"
   ]
  },
  {
   "cell_type": "code",
   "execution_count": 32,
   "id": "8357e52a-fac5-4794-acbc-71785397ff96",
   "metadata": {},
   "outputs": [
    {
     "name": "stdin",
     "output_type": "stream",
     "text": [
      "enter a number:  13\n"
     ]
    },
    {
     "name": "stdout",
     "output_type": "stream",
     "text": [
      "1\n"
     ]
    }
   ],
   "source": [
    "x = int(input(\"enter a number: \"))\n",
    "def remainder(x, y=4):\n",
    "    if x < 0:\n",
    "        return None  \n",
    "    if y <= 0:\n",
    "        return None \n",
    "    return x % y\n",
    "print(remainder(x))"
   ]
  },
  {
   "cell_type": "code",
   "execution_count": 33,
   "id": "85c7b2c3-9b4a-4c18-b804-9d78a4611efb",
   "metadata": {},
   "outputs": [
    {
     "name": "stdout",
     "output_type": "stream",
     "text": [
      "    1 \n",
      "   1 1 \n",
      "  1 2 1 \n",
      " 1 3 3 1 \n",
      "1 4 6 4 1 \n"
     ]
    }
   ],
   "source": [
    "def pascal_triangle(n):\n",
    "    for i in range(n):\n",
    "        print(\" \" * (n - i - 1), end=\"\")  \n",
    "        C = 1\n",
    "        for j in range(i + 1):\n",
    "            print(C, end=\" \")\n",
    "            C = C * (i - j) // (j + 1)\n",
    "        print()\n",
    "pascal_triangle(5)"
   ]
  },
  {
   "cell_type": "code",
   "execution_count": 27,
   "id": "b870b89f-408d-4e0e-a039-fb1874399d36",
   "metadata": {},
   "outputs": [
    {
     "name": "stdout",
     "output_type": "stream",
     "text": [
      "16\n"
     ]
    }
   ],
   "source": [
    "def sumPdivisors(n):\n",
    "    if n <= 0:\n",
    "        return None \n",
    "    total = 0\n",
    "    for i in range(1, n):\n",
    "        if n % i == 0:\n",
    "            total += i\n",
    "    return total\n",
    "print(sumPdivisors(12))"
   ]
  },
  {
   "cell_type": "code",
   "execution_count": 38,
   "id": "51fed489-fde9-4b9f-8f01-ddf7dfe089fe",
   "metadata": {},
   "outputs": [
    {
     "name": "stdout",
     "output_type": "stream",
     "text": [
      "\n",
      ".....Calculator Menu.....\n",
      "1. Add\n",
      "2. Subtract\n",
      "3. Multiply\n",
      "4. Divide\n",
      "5. EXIT\n"
     ]
    },
    {
     "name": "stdin",
     "output_type": "stream",
     "text": [
      "Enter your choice (1-5):  4\n",
      "Enter first number:  20\n",
      "Enter second number:  10\n"
     ]
    },
    {
     "name": "stdout",
     "output_type": "stream",
     "text": [
      "Result: 2.0\n",
      "\n",
      ".....Calculator Menu.....\n",
      "1. Add\n",
      "2. Subtract\n",
      "3. Multiply\n",
      "4. Divide\n",
      "5. EXIT\n"
     ]
    },
    {
     "name": "stdin",
     "output_type": "stream",
     "text": [
      "Enter your choice (1-5):  1\n",
      "Enter first number:  21\n",
      "Enter second number:  12\n"
     ]
    },
    {
     "name": "stdout",
     "output_type": "stream",
     "text": [
      "Result: 33.0\n",
      "\n",
      ".....Calculator Menu.....\n",
      "1. Add\n",
      "2. Subtract\n",
      "3. Multiply\n",
      "4. Divide\n",
      "5. EXIT\n"
     ]
    },
    {
     "name": "stdin",
     "output_type": "stream",
     "text": [
      "Enter your choice (1-5):  5\n"
     ]
    },
    {
     "name": "stdout",
     "output_type": "stream",
     "text": [
      "Exiting calculator...\n"
     ]
    }
   ],
   "source": [
    "def add(a,b):\n",
    "    return a+b\n",
    "def subtract(a,b):\n",
    "    return a-b\n",
    "def multiply(a,b):\n",
    "    return a*b\n",
    "def divide(a,b):\n",
    "    if b == 0:\n",
    "        return \"Error! Division by zero.\"\n",
    "    return a/b\n",
    "while True:\n",
    "    print(\"\\n.....Calculator Menu.....\")\n",
    "    print(\"1. Add\")\n",
    "    print(\"2. Subtract\")\n",
    "    print(\"3. Multiply\")\n",
    "    print(\"4. Divide\")\n",
    "    print(\"5. EXIT\")\n",
    "    choice = input(\"Enter your choice (1-5): \")\n",
    "    if choice == '5':\n",
    "        print(\"Exiting calculator...\")\n",
    "        break\n",
    "    if choice in ['1', '2', '3', '4']:\n",
    "        num1 = float(input(\"Enter first number: \"))\n",
    "        num2 = float(input(\"Enter second number: \"))\n",
    "    \n",
    "    if choice == '1':\n",
    "        print(f\"Result: {add(num1, num2)}\")\n",
    "    elif choice == '2':\n",
    "        print(f\"Result: {subtract(num1, num2)}\")\n",
    "    elif choice == '3':\n",
    "        print(f\"Result: {multiply(num1, num2)}\")\n",
    "    elif choice == '4':\n",
    "        print(f\"Result: {divide(num1, num2)}\")\n",
    "else:\n",
    "    print(\"Invalid choice! Please select a valid option.\")\n"
   ]
  },
  {
   "cell_type": "code",
   "execution_count": 31,
   "id": "05a108e0-d5e1-41f3-9cd7-6abdcf63e7cd",
   "metadata": {},
   "outputs": [
    {
     "name": "stdin",
     "output_type": "stream",
     "text": [
      "Principal:  100\n",
      "Rate of Interest (%):  5\n",
      "Years:  2\n"
     ]
    },
    {
     "name": "stdout",
     "output_type": "stream",
     "text": [
      "Compound Interest: 10.25\n"
     ]
    }
   ],
   "source": [
    "def C(n, r):\n",
    "    res = 1\n",
    "    for i in range(1, r+1):\n",
    "        res = res * (n - i + 1) // i\n",
    "    return res\n",
    "\n",
    "def compound_interest(P, R, n):\n",
    "    return sum(C(n, k) * P * (R/100)**k \n",
    "               for k in range(n+1)) - P\n",
    "\n",
    "P = float(input(\"Principal: \"))\n",
    "R = float(input(\"Rate of Interest (%): \"))\n",
    "n = int(input(\"Years: \"))\n",
    "print(f\"Compound Interest: {compound_interest(P, R, n):.2f}\")"
   ]
  },
  {
   "cell_type": "code",
   "execution_count": null,
   "id": "1ad48ff2-7497-49a1-9a73-ed45cde030d3",
   "metadata": {},
   "outputs": [],
   "source": []
  }
 ],
 "metadata": {
  "kernelspec": {
   "display_name": "Python 3 (ipykernel)",
   "language": "python",
   "name": "python3"
  },
  "language_info": {
   "codemirror_mode": {
    "name": "ipython",
    "version": 3
   },
   "file_extension": ".py",
   "mimetype": "text/x-python",
   "name": "python",
   "nbconvert_exporter": "python",
   "pygments_lexer": "ipython3",
   "version": "3.13.5"
  }
 },
 "nbformat": 4,
 "nbformat_minor": 5
}
