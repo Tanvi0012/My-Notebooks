{
 "cells": [
  {
   "cell_type": "code",
   "execution_count": 1,
   "id": "ce8dd682-7cea-463e-a212-a135e84557ef",
   "metadata": {},
   "outputs": [],
   "source": [
    "#CONTROL STATEMENT\n",
    "#TYPES:-sequential control statement, selection control statement,iterative contol statement"
   ]
  },
  {
   "cell_type": "code",
   "execution_count": 31,
   "id": "1cab8d0c-dcf8-4e79-8c2b-5b3fc0cd96e8",
   "metadata": {},
   "outputs": [
    {
     "name": "stdin",
     "output_type": "stream",
     "text": [
      "Enter a number 4\n"
     ]
    },
    {
     "name": "stdout",
     "output_type": "stream",
     "text": [
      "5\n"
     ]
    }
   ],
   "source": [
    "#IF statement\n",
    "#increment a number if it's positive\n",
    "num=int(input(\"Enter a number\"))\n",
    "if num>0:\n",
    "   num_inc=num+1\n",
    "print(num_inc)"
   ]
  },
  {
   "cell_type": "code",
   "execution_count": 15,
   "id": "b3846adf-945c-4b53-85ca-fcb8365d90fc",
   "metadata": {},
   "outputs": [
    {
     "name": "stdin",
     "output_type": "stream",
     "text": [
      "enter the age 19\n"
     ]
    },
    {
     "name": "stdout",
     "output_type": "stream",
     "text": [
      "you are eligible to code\n"
     ]
    }
   ],
   "source": [
    "#to determine whether a person is eligible to code\n",
    "age=int(input(\"enter the age\"))\n",
    "if age>=18:\n",
    "    print(\"you are eligible to code\")"
   ]
  },
  {
   "cell_type": "code",
   "execution_count": 29,
   "id": "f1a92c4b-fe84-46f2-a2bb-4fc86d76451c",
   "metadata": {},
   "outputs": [
    {
     "name": "stdin",
     "output_type": "stream",
     "text": [
      "enter the character r\n"
     ]
    },
    {
     "name": "stdout",
     "output_type": "stream",
     "text": [
      "it's an alphabet\n"
     ]
    }
   ],
   "source": [
    "#to determine the character entered by user\n",
    "ch=input(\"enter the character\")\n",
    "if len(ch)==1:\n",
    "   if ch.isalpha():\n",
    "    print(\"it's an alphabet\")\n",
    "   if ch.isdigit():\n",
    "    print(\"it's a digit\")\n",
    "   if ch.isspace():\n",
    "    print(\"it's a blank space\")"
   ]
  },
  {
   "cell_type": "code",
   "execution_count": 49,
   "id": "45f85b50-fc12-4b81-ad8a-2d79ca2cc966",
   "metadata": {},
   "outputs": [
    {
     "name": "stdin",
     "output_type": "stream",
     "text": [
      "enter the age 12\n"
     ]
    },
    {
     "name": "stdout",
     "output_type": "stream",
     "text": [
      "you are not eligible\n",
      "you can vote after 6\n"
     ]
    }
   ],
   "source": [
    "#IF ELSE statement\n",
    "#WAP to determine whether a person is eligible to vote,if not then calculate the years left\n",
    "age=int(input(\"enter the age\"))\n",
    "if age>=18:\n",
    "    print(\"person is eligible to vote\")\n",
    "else:\n",
    "    years_left=18-age\n",
    "    print(\"you are not eligible\")\n",
    "    print(\"you can vote after\",years_left)"
   ]
  },
  {
   "cell_type": "code",
   "execution_count": 50,
   "id": "bc3420ee-a1c7-4b44-bee0-e66b37abe49c",
   "metadata": {},
   "outputs": [
    {
     "name": "stdout",
     "output_type": "stream",
     "text": [
      "larger number is: 45\n"
     ]
    }
   ],
   "source": [
    "#print largest of two number\n",
    "print(\"larger number is:\",max(10,45))"
   ]
  },
  {
   "cell_type": "code",
   "execution_count": 52,
   "id": "a40ba0eb-5f46-4b33-aa6e-0365fd52d0c4",
   "metadata": {},
   "outputs": [
    {
     "name": "stdin",
     "output_type": "stream",
     "text": [
      "enter the character A\n"
     ]
    },
    {
     "name": "stdout",
     "output_type": "stream",
     "text": [
      "converted char a\n"
     ]
    }
   ],
   "source": [
    "#WAP to convert the character into different case\n",
    "ch=input(\"enter the character\")\n",
    "if ch.islower():\n",
    "    print(\"converted char\",ch.upper())\n",
    "elif ch.isupper():\n",
    "    print(\"converted char\",ch.lower())"
   ]
  }
 ],
 "metadata": {
  "kernelspec": {
   "display_name": "Python 3 (ipykernel)",
   "language": "python",
   "name": "python3"
  },
  "language_info": {
   "codemirror_mode": {
    "name": "ipython",
    "version": 3
   },
   "file_extension": ".py",
   "mimetype": "text/x-python",
   "name": "python",
   "nbconvert_exporter": "python",
   "pygments_lexer": "ipython3",
   "version": "3.13.5"
  }
 },
 "nbformat": 4,
 "nbformat_minor": 5
}
