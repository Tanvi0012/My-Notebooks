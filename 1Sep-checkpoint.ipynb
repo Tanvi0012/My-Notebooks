{
 "cells": [
  {
   "cell_type": "code",
   "execution_count": 1,
   "id": "ac8793ac-0d69-40ff-92f7-b1564c5b0e8d",
   "metadata": {},
   "outputs": [],
   "source": [
    "#CONCATENATION"
   ]
  },
  {
   "cell_type": "code",
   "execution_count": 2,
   "id": "b3454199-123c-4660-8733-b124a1561465",
   "metadata": {},
   "outputs": [
    {
     "name": "stdout",
     "output_type": "stream",
     "text": [
      "Good morning\n",
      "what is your name?\n",
      "Bye\n"
     ]
    }
   ],
   "source": [
    "print('''Good morning\n",
    "what is your name?\n",
    "Bye''')"
   ]
  },
  {
   "cell_type": "code",
   "execution_count": 3,
   "id": "458ff7c3-cd20-4c89-8dde-4ee735c5648f",
   "metadata": {},
   "outputs": [
    {
     "name": "stdout",
     "output_type": "stream",
     "text": [
      "goodmorning\n",
      "python+technology\n",
      "python3.5\n",
      "1234\n"
     ]
    }
   ],
   "source": [
    "#Strings are immutable.\n",
    "print(\"good\" + \"morning\")\n",
    "print(\"python\" '+' \"technology\")\n",
    "print(\"python\" + \"3.5\")\n",
    "print(\"12\" + \"34\")"
   ]
  },
  {
   "cell_type": "code",
   "execution_count": 4,
   "id": "456bf319-5f95-45a8-b32b-8c651d9aa48d",
   "metadata": {},
   "outputs": [],
   "source": [
    "#MULTIPLICATION"
   ]
  },
  {
   "cell_type": "code",
   "execution_count": 5,
   "id": "9844f16f-dc27-49ef-bc7d-c62a96025ee5",
   "metadata": {},
   "outputs": [
    {
     "name": "stdout",
     "output_type": "stream",
     "text": [
      "goodgoodgoodgoodgood\n",
      "goodgoodgoodgoodgood\n"
     ]
    }
   ],
   "source": [
    "print(\"good\" *5)\n",
    "print(5*\"good\")\n",
    "# print(\"good\" * 5.0)- error will arise by [can't multiply sequence by non-int of type 'float']"
   ]
  },
  {
   "cell_type": "code",
   "execution_count": 6,
   "id": "039b9beb-0858-4bf4-9301-432831a9f07e",
   "metadata": {},
   "outputs": [],
   "source": [
    "#SLICING"
   ]
  },
  {
   "cell_type": "code",
   "execution_count": 7,
   "id": "fa76261b-dffa-4a01-902f-4dc9bfc31fe3",
   "metadata": {},
   "outputs": [
    {
     "name": "stdout",
     "output_type": "stream",
     "text": [
      "python is easy!!!\n",
      "p\n",
      "hon is\n",
      "on is easy!!!\n",
      "!\n",
      "pytho\n"
     ]
    }
   ],
   "source": [
    "str= \"python is easy!!!\"\n",
    "print(str)\n",
    "print(str[0])\n",
    "print(str[3:9])\n",
    "print(str[4:])\n",
    "print(str[-1])\n",
    "print(str[:5])"
   ]
  },
  {
   "cell_type": "code",
   "execution_count": 8,
   "id": "8b1a5217-0dac-414c-ad5d-d0fbbf9211a6",
   "metadata": {},
   "outputs": [],
   "source": [
    "#UNICODE STRING- it is a standard way of writing a standard way text python have uniques code enabled. prefixing the string with U or u.Allows you to specify uni code test."
   ]
  },
  {
   "cell_type": "code",
   "execution_count": 9,
   "id": "1a0d8676-d08c-4a2d-8128-2f2f949124ce",
   "metadata": {},
   "outputs": [
    {
     "name": "stdout",
     "output_type": "stream",
     "text": [
      "What's your name?\n",
      "The boy replies,\"My name is Aditya.\"\n",
      "The boy replies,\n",
      "\"My name is Aditya.\"\n",
      "The boy replies,\tMy name is Aditya.\n",
      "The boy replies,\\My name is Aditya.\n"
     ]
    }
   ],
   "source": [
    "#ESCAPE SEQUENCE- It's a combination of characters that is translated into another character or sequence of character that may be difficult or impossible to represent directly.\n",
    "print('What\\'s your name?')\n",
    "print(\"The boy replies,\\\"My name is Aditya.\\\"\")\n",
    "print(\"The boy replies,\\n\\\"My name is Aditya.\\\"\")\n",
    "print(\"The boy replies,\\tMy name is Aditya.\")\n",
    "print(\"The boy replies,\\My name is Aditya.\") #When specifying a string with single backslash at the end of line is added ,it indicates,string is continued in next line but no new line is added otherwise."
   ]
  },
  {
   "cell_type": "code",
   "execution_count": 10,
   "id": "a76cc985-e844-4bbf-97ed-22a53a62682c",
   "metadata": {},
   "outputs": [
    {
     "name": "stdout",
     "output_type": "stream",
     "text": [
      "\\\n",
      "'\n",
      "\"\n",
      "hello\n",
      " world\n",
      "hello\t world\n",
      "\u0000o56\n",
      ".\n",
      "\n"
     ]
    }
   ],
   "source": [
    "print(\"\\\\\")\n",
    "print(\"\\'\")\n",
    "print(\"\\\"\")\n",
    "print(\"hello\\n world\")\n",
    "print(\"hello\\t world\")\n",
    "print(\"\\0o56\") #octal\n",
    "print(\"\\x2E\")\n",
    "print(\"\\x87\")"
   ]
  },
  {
   "cell_type": "code",
   "execution_count": 11,
   "id": "14995498-4d12-4c42-b545-2ff79e16975f",
   "metadata": {},
   "outputs": [
    {
     "name": "stdout",
     "output_type": "stream",
     "text": [
      "27\n"
     ]
    }
   ],
   "source": [
    "binary_number=\"11011\"\n",
    "decimal_equivalent= int(binary_number,2)\n",
    "print(decimal_equivalent)"
   ]
  },
  {
   "cell_type": "code",
   "execution_count": 12,
   "id": "43b01d9c-50ab-4fd9-9fef-b1be05c0cb39",
   "metadata": {},
   "outputs": [
    {
     "name": "stdout",
     "output_type": "stream",
     "text": [
      "0o63\n"
     ]
    }
   ],
   "source": [
    "decimal_number=51\n",
    "octal_representation= oct(decimal_number)\n",
    "print(octal_representation)"
   ]
  },
  {
   "cell_type": "code",
   "execution_count": 13,
   "id": "ed936a4c-d43e-484b-b07d-07f1ee34590f",
   "metadata": {},
   "outputs": [
    {
     "name": "stdout",
     "output_type": "stream",
     "text": [
      "240\n"
     ]
    }
   ],
   "source": [
    "octal_number_string=\"360\"\n",
    "decimal_equivalent=int(octal_number_string,8)\n",
    "print(decimal_equivalent)"
   ]
  },
  {
   "cell_type": "code",
   "execution_count": 14,
   "id": "e24ce947-d07a-4a3a-8da8-008d2838c58d",
   "metadata": {},
   "outputs": [
    {
     "name": "stdout",
     "output_type": "stream",
     "text": [
      "0x33\n"
     ]
    }
   ],
   "source": [
    "decimal_number=51\n",
    "Hexadecimal_representation= hex(decimal_number)\n",
    "print(Hexadecimal_representation)"
   ]
  },
  {
   "cell_type": "code",
   "execution_count": 15,
   "id": "f84f230e-37eb-4fe0-83fc-ee59c787e1b4",
   "metadata": {},
   "outputs": [
    {
     "name": "stdout",
     "output_type": "stream",
     "text": [
      "51\n"
     ]
    }
   ],
   "source": [
    "hex_number=\"33\"\n",
    "decimal_equivalent=int(hex_number,16)\n",
    "print(decimal_equivalent)"
   ]
  },
  {
   "cell_type": "code",
   "execution_count": 16,
   "id": "d9f88417-18af-4c84-9348-9a6a207c7f7d",
   "metadata": {},
   "outputs": [
    {
     "name": "stdout",
     "output_type": "stream",
     "text": [
      "0\n",
      "14\n",
      "-11\n",
      "-5\n",
      "14\n",
      "80\n",
      "2\n"
     ]
    }
   ],
   "source": [
    "#BITWISE OPERATOR\n",
    "x=10\n",
    "y=4                                           #do in binary\n",
    "#bitwise AND\n",
    "c= x&y\n",
    "print(c)\n",
    "#bitwise OR\n",
    "d= x|y\n",
    "print(d)\n",
    "#bitwise NOT\n",
    "e= ~x\n",
    "print(e)\n",
    "f= ~y\n",
    "print(f)\n",
    "#bitwise XOR\n",
    "print(x^y)\n",
    "#bitwise leftshift\n",
    "print(x<<3)\n",
    "#bitwise rightshift\n",
    "print(x>>2)"
   ]
  },
  {
   "cell_type": "code",
   "execution_count": 17,
   "id": "83140b68-35ca-4d16-b1e7-3f5e34acb053",
   "metadata": {},
   "outputs": [
    {
     "name": "stdout",
     "output_type": "stream",
     "text": [
      "x is y False\n",
      "True\n"
     ]
    }
   ],
   "source": [
    "#Identity operator (IS or IS NOT)\n",
    "x=[1,2]\n",
    "y=[1,2]\n",
    "print(\"x is y\", x is y)\n",
    "z=x\n",
    "print(x is z)"
   ]
  },
  {
   "cell_type": "code",
   "execution_count": 18,
   "id": "b91bc76e-8a8f-4439-839a-916714d73c1b",
   "metadata": {},
   "outputs": [
    {
     "name": "stdout",
     "output_type": "stream",
     "text": [
      "False\n",
      "True\n",
      "False\n"
     ]
    }
   ],
   "source": [
    "x1=5\n",
    "y1=5\n",
    "x2=\"hello\"\n",
    "y2=\"hello\"\n",
    "x3=[1,2,3]\n",
    "y3=[1,2,3]\n",
    "print(x1 is not y1)\n",
    "print(x2 is y2)\n",
    "print(x3 is y3)"
   ]
  },
  {
   "cell_type": "code",
   "execution_count": 19,
   "id": "06c2b095-3815-4fc8-b236-f5a6119344a1",
   "metadata": {},
   "outputs": [],
   "source": [
    "#Membership operator (IN and NOT IN)\n",
    "#In- value is in sequence....NOT IN - value is not present in sequence"
   ]
  },
  {
   "cell_type": "code",
   "execution_count": 20,
   "id": "ce670be4-dad2-4275-9c86-e885b74d7a76",
   "metadata": {},
   "outputs": [
    {
     "name": "stdout",
     "output_type": "stream",
     "text": [
      "True\n",
      "True\n",
      "True\n",
      "True\n",
      "False\n"
     ]
    }
   ],
   "source": [
    "message='HELLO WORLD'\n",
    "dict={1:'a',2:'b'}\n",
    "#check if h is present in message string\n",
    "print(\"H\" in message)\n",
    "#check if hello is present in message string\n",
    "print(\"HELLO\" in message)\n",
    "print(\"hello\" not in message)\n",
    "print(1 in dict)\n",
    "print('a' in dict)"
   ]
  },
  {
   "cell_type": "code",
   "execution_count": 21,
   "id": "b166dc77-2820-4b9f-a18b-83d66b97c73c",
   "metadata": {},
   "outputs": [
    {
     "name": "stdout",
     "output_type": "stream",
     "text": [
      "10\n"
     ]
    }
   ],
   "source": [
    "#Ternary operator/conditional expression\n",
    "a,b=10,20\n",
    "min=a if a<b else b\n",
    "print(min)"
   ]
  },
  {
   "cell_type": "code",
   "execution_count": 22,
   "id": "e261b861-be0e-4c7f-9917-a10250bc1f72",
   "metadata": {},
   "outputs": [
    {
     "name": "stdout",
     "output_type": "stream",
     "text": [
      "positive\n",
      "negative\n"
     ]
    }
   ],
   "source": [
    "x=0.5\n",
    "result=\"positive\"if x>0 else \"negative\"\n",
    "print(result)\n",
    "y=-5\n",
    "result=\"positive\"if y>0 else \"negative\"\n",
    "print(result)"
   ]
  },
  {
   "cell_type": "code",
   "execution_count": 23,
   "id": "3a29ef1e-4bef-4161-9456-953a997dcacc",
   "metadata": {},
   "outputs": [
    {
     "name": "stdout",
     "output_type": "stream",
     "text": [
      "610\n",
      "180.0\n",
      "100.0\n",
      "100.0\n"
     ]
    }
   ],
   "source": [
    "expr= 10+20*30\n",
    "print(expr)\n",
    "expr= (40+20)*30/10\n",
    "print(expr)\n",
    "print(40+(20*30)/10)\n",
    "print(100/10*10)"
   ]
  },
  {
   "cell_type": "code",
   "execution_count": 24,
   "id": "e4ca255e-4fc7-4fc5-8bb6-fccad779a41a",
   "metadata": {},
   "outputs": [
    {
     "data": {
      "text/plain": [
       "True"
      ]
     },
     "execution_count": 24,
     "metadata": {},
     "output_type": "execute_result"
    }
   ],
   "source": [
    "False==False or True"
   ]
  },
  {
   "cell_type": "code",
   "execution_count": 25,
   "id": "104cc48f-b220-4d92-93f7-082cb204a8fa",
   "metadata": {},
   "outputs": [
    {
     "data": {
      "text/plain": [
       "False"
      ]
     },
     "execution_count": 25,
     "metadata": {},
     "output_type": "execute_result"
    }
   ],
   "source": [
    "False==(False or True)"
   ]
  },
  {
   "cell_type": "code",
   "execution_count": null,
   "id": "a1faeb79-cdbf-4d8d-92c5-243838f9c1ba",
   "metadata": {},
   "outputs": [],
   "source": []
  }
 ],
 "metadata": {
  "kernelspec": {
   "display_name": "Python 3 (ipykernel)",
   "language": "python",
   "name": "python3"
  },
  "language_info": {
   "codemirror_mode": {
    "name": "ipython",
    "version": 3
   },
   "file_extension": ".py",
   "mimetype": "text/x-python",
   "name": "python",
   "nbconvert_exporter": "python",
   "pygments_lexer": "ipython3",
   "version": "3.13.5"
  }
 },
 "nbformat": 4,
 "nbformat_minor": 5
}
