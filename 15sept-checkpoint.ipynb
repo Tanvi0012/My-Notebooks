{
 "cells": [
  {
   "cell_type": "code",
   "execution_count": 1,
   "id": "a4c992c0-09cf-4c23-904c-b142f526ace5",
   "metadata": {},
   "outputs": [
    {
     "name": "stdout",
     "output_type": "stream",
     "text": [
      "0123456789"
     ]
    }
   ],
   "source": [
    "#counter controlled loop\n",
    "l=0\n",
    "while(l<10):\n",
    "    print(l,end=\"\")\n",
    "    l+=1"
   ]
  },
  {
   "cell_type": "code",
   "execution_count": 8,
   "id": "d48b80b6-2cd8-4439-9fa6-ede0f3cddb83",
   "metadata": {},
   "outputs": [
    {
     "name": "stdout",
     "output_type": "stream",
     "text": [
      "123456789"
     ]
    }
   ],
   "source": [
    "#condition controlled loop\n",
    "i=1\n",
    "while(i>0):\n",
    "    print(i,end=\"\")\n",
    "    i+=1\n",
    "    if(i==10):\n",
    "      break"
   ]
  },
  {
   "cell_type": "code",
   "execution_count": 71,
   "id": "c39ee7f6-27ee-433e-843e-6c8d3cf01295",
   "metadata": {},
   "outputs": [
    {
     "name": "stdout",
     "output_type": "stream",
     "text": [
      "SUNMONTUEWEDTHUFRISAT\n",
      "  1  2  3  4  5  6  7\n",
      "  8  9 10 11 12 13 14\n",
      " 15 16 17 18 19 20 21\n",
      " 22 23 24 25 26 27 28\n",
      " 29 30\n"
     ]
    }
   ],
   "source": [
    "#calender\n",
    "start_day=0\n",
    "days_in_month=30\n",
    "print(\"SUNMONTUEWEDTHUFRISAT\")\n",
    "for _ in range(start_day):\n",
    "   print(\" \",end=\"\")\n",
    "day=1\n",
    "while day<=days_in_month:\n",
    "    for i in range(7-start_day):\n",
    "        if day>days_in_month:\n",
    "           break\n",
    "        print(f\"{day:>3}\",end=\"\")\n",
    "        day+=1\n",
    "    print()\n",
    "    start_day=0"
   ]
  },
  {
   "cell_type": "code",
   "execution_count": 25,
   "id": "95b0b5a0-1bd6-4c3f-934d-f8f3cd8e0ba8",
   "metadata": {},
   "outputs": [
    {
     "name": "stdout",
     "output_type": "stream",
     "text": [
      "******\n",
      "******\n",
      "******\n",
      "******\n"
     ]
    }
   ],
   "source": [
    "#nested loop\n",
    "for i in range(4):\n",
    "    for j in range(0,6):\n",
    "        print(\"*\",end=\"\")\n",
    "    print()"
   ]
  },
  {
   "cell_type": "code",
   "execution_count": 32,
   "id": "78803283-85e1-479c-ae3a-297997b27e43",
   "metadata": {},
   "outputs": [
    {
     "name": "stdout",
     "output_type": "stream",
     "text": [
      "*\n",
      "**\n",
      "***\n",
      "****\n",
      "*****\n"
     ]
    }
   ],
   "source": [
    "rows=5\n",
    "for i in range(1,rows+1):\n",
    "    print(\"*\"*i)"
   ]
  },
  {
   "cell_type": "code",
   "execution_count": 38,
   "id": "b0f4ea85-01ef-447b-b7fa-a148b6c0e508",
   "metadata": {},
   "outputs": [
    {
     "name": "stdout",
     "output_type": "stream",
     "text": [
      "*****\n",
      "****\n",
      "***\n",
      "**\n",
      "*\n"
     ]
    }
   ],
   "source": [
    "rows=5\n",
    "for i in range(rows,0,-1):\n",
    "    print(\"*\"*i)"
   ]
  },
  {
   "cell_type": "code",
   "execution_count": 42,
   "id": "ea6f4676-fa1b-4965-ad9e-1cec4f27e35d",
   "metadata": {},
   "outputs": [
    {
     "name": "stdout",
     "output_type": "stream",
     "text": [
      "    1\n",
      "   12\n",
      "  123\n",
      " 1234\n",
      "12345\n"
     ]
    }
   ],
   "source": [
    "rows = 5\n",
    "for i in range(1, rows + 1):\n",
    "    print(\" \" * (rows - i), end=\"\")\n",
    "    for j in range(1, i + 1):\n",
    "        print(j, end=\"\")\n",
    "    print()"
   ]
  },
  {
   "cell_type": "code",
   "execution_count": 43,
   "id": "1440037b-8742-456b-b0cc-204dd2732bbc",
   "metadata": {},
   "outputs": [
    {
     "name": "stdout",
     "output_type": "stream",
     "text": [
      "    1\n",
      "   121\n",
      "  12321\n",
      " 1234321\n",
      "123454321\n"
     ]
    }
   ],
   "source": [
    "rows = 5 \n",
    "for i in range(1, rows + 1):\n",
    "    print(\" \" * (rows - i), end=\"\")\n",
    "    for j in range(1, i + 1):\n",
    "        print(j, end=\"\")\n",
    "    for j in range(i - 1, 0, -1):\n",
    "        print(j, end=\"\")\n",
    "    print()"
   ]
  },
  {
   "cell_type": "code",
   "execution_count": 53,
   "id": "60717e66-1828-49fc-adfd-7521cf252c62",
   "metadata": {},
   "outputs": [
    {
     "name": "stdin",
     "output_type": "stream",
     "text": [
      "Enter the value of n:  2\n"
     ]
    },
    {
     "name": "stdout",
     "output_type": "stream",
     "text": [
      "Sum= 1.1666666666666665\n"
     ]
    }
   ],
   "source": [
    "# Sum of the series 1/2 + 2/3 + ... + n/(n+1)\n",
    "n = int(input(\"Enter the value of n: \"))\n",
    "total = 0.0\n",
    "for i in range(1, n + 1):\n",
    "    total += i / (i + 1)\n",
    "print(\"Sum=\", total)"
   ]
  },
  {
   "cell_type": "code",
   "execution_count": 55,
   "id": "65e5eeec-3275-44c5-9ca4-ea45380ce59f",
   "metadata": {},
   "outputs": [
    {
     "name": "stdin",
     "output_type": "stream",
     "text": [
      "Enter the value of n:  5\n"
     ]
    },
    {
     "name": "stdout",
     "output_type": "stream",
     "text": [
      "Sum= 15.0\n"
     ]
    }
   ],
   "source": [
    "# Sum of the series 1/1 + 2^2/2 + 3^2/3 + ... + n^2/n\n",
    "n = int(input(\"Enter the value of n: \"))\n",
    "total = 0\n",
    "for i in range(1,n+1):\n",
    "    total += (i**2) / i \n",
    "print(\"Sum=\", total)"
   ]
  },
  {
   "cell_type": "code",
   "execution_count": 61,
   "id": "b1b1c40c-af07-4ef8-b3e9-541cb41d6663",
   "metadata": {},
   "outputs": [
    {
     "name": "stdout",
     "output_type": "stream",
     "text": [
      "Enter elements of Matrix A:\n"
     ]
    },
    {
     "name": "stdin",
     "output_type": "stream",
     "text": [
      " 1 2 \n",
      " 2 3\n"
     ]
    },
    {
     "name": "stdout",
     "output_type": "stream",
     "text": [
      "Enter elements of Matrix B:\n"
     ]
    },
    {
     "name": "stdin",
     "output_type": "stream",
     "text": [
      " 2 3\n",
      " 2 4\n"
     ]
    },
    {
     "name": "stdout",
     "output_type": "stream",
     "text": [
      "Result\n",
      "[6, 11]\n",
      "[10, 18]\n"
     ]
    }
   ],
   "source": [
    "#perform square matrix multiplication\n",
    "print(\"Enter elements of Matrix A:\")\n",
    "A = []\n",
    "for i in range(2):\n",
    "    row = list(map(int, input().split()))\n",
    "    A.append(row)\n",
    "print(\"Enter elements of Matrix B:\")\n",
    "B = []\n",
    "for i in range(2):\n",
    "    row = list(map(int, input().split()))\n",
    "    B.append(row)\n",
    "C = [[0] * 2 for _ in range(2)]\n",
    "for i in range(2):\n",
    "    for j in range(2):\n",
    "        for k in range(2):\n",
    "            C[i][j] += A[i][k] * B[k][j]\n",
    "print(\"Result\")\n",
    "for row in C:\n",
    "    print(row)"
   ]
  },
  {
   "cell_type": "code",
   "execution_count": 65,
   "id": "371cb9b9-88d5-4515-88e4-7bc49418a567",
   "metadata": {},
   "outputs": [
    {
     "name": "stdout",
     "output_type": "stream",
     "text": [
      "0,0  0,1  0,2  \n",
      "1,0  1,1  1,2  \n",
      "2,0  2,1  2,2  \n"
     ]
    }
   ],
   "source": [
    "rows = 2\n",
    "cols = 2\n",
    "for i in range(0, rows + 1):\n",
    "    for j in range(0, cols + 1):\n",
    "        print(f\"{i},{j}\", end=\"  \")\n",
    "    print()"
   ]
  },
  {
   "cell_type": "code",
   "execution_count": 77,
   "id": "0ed90bde-8709-478e-9f1d-939daadfd251",
   "metadata": {},
   "outputs": [
    {
     "name": "stdout",
     "output_type": "stream",
     "text": [
      "red apple\n",
      "red banana\n",
      "red cherry\n",
      "big apple\n",
      "big banana\n",
      "big cherry\n",
      "tasty apple\n",
      "tasty banana\n",
      "tasty cherry\n"
     ]
    }
   ],
   "source": [
    "adj=[\"red\",\"big\",\"tasty\"]\n",
    "fruits=[\"apple\",\"banana\",\"cherry\"]\n",
    "for i in adj:\n",
    "    for j in fruits:\n",
    "        print(f\"{i} {j}\")"
   ]
  },
  {
   "cell_type": "code",
   "execution_count": 80,
   "id": "eba77aa3-de92-4e89-9fa2-16a025bc10c8",
   "metadata": {},
   "outputs": [
    {
     "name": "stdout",
     "output_type": "stream",
     "text": [
      "*\n",
      "**\n",
      "***\n",
      "****\n",
      "*****\n",
      "*****\n",
      "****\n",
      "***\n",
      "**\n",
      "*\n"
     ]
    }
   ],
   "source": [
    "rows=5\n",
    "for i in range(1,rows+1):\n",
    "    print(\"*\"*i)\n",
    "for i in range(rows,0,-1):\n",
    "       print(\"*\"*i)"
   ]
  },
  {
   "cell_type": "code",
   "execution_count": null,
   "id": "da8d3a9d-f3ab-4c1a-9c64-5d929a44a74f",
   "metadata": {},
   "outputs": [],
   "source": []
  }
 ],
 "metadata": {
  "kernelspec": {
   "display_name": "Python 3 (ipykernel)",
   "language": "python",
   "name": "python3"
  },
  "language_info": {
   "codemirror_mode": {
    "name": "ipython",
    "version": 3
   },
   "file_extension": ".py",
   "mimetype": "text/x-python",
   "name": "python",
   "nbconvert_exporter": "python",
   "pygments_lexer": "ipython3",
   "version": "3.13.5"
  }
 },
 "nbformat": 4,
 "nbformat_minor": 5
}
