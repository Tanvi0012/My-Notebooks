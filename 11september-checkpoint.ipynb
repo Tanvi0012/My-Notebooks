{
 "cells": [
  {
   "cell_type": "code",
   "execution_count": 73,
   "id": "2a2140a6-1a25-416a-86cb-aae07a666be6",
   "metadata": {},
   "outputs": [
    {
     "name": "stdin",
     "output_type": "stream",
     "text": [
      "enter a number 12\n"
     ]
    },
    {
     "name": "stdout",
     "output_type": "stream",
     "text": [
      "number is positive\n"
     ]
    }
   ],
   "source": [
    "#wap to test whether a number entered by a user is positive,negative or zero\n",
    "num=int(input(\"enter a number\"))\n",
    "if num>0:\n",
    "    print(\"number is positive\")\n",
    "elif num<0:\n",
    "    print(\"number is negative\")\n",
    "else:\n",
    "    print(\"number is zero\")"
   ]
  },
  {
   "cell_type": "code",
   "execution_count": 74,
   "id": "2c48bb19-1a68-4dd5-869f-08c2100f023b",
   "metadata": {},
   "outputs": [
    {
     "name": "stdin",
     "output_type": "stream",
     "text": [
      "enter a character s\n"
     ]
    },
    {
     "name": "stdout",
     "output_type": "stream",
     "text": [
      "CHARACTER IS NOT VOWEL\n"
     ]
    }
   ],
   "source": [
    "#wap to determine whether a char entered is vowel or not\n",
    "char=input(\"enter a character\")\n",
    "if char.lower() in 'aeiou':\n",
    "   print(\"CHARACTER IS VOWEL\")\n",
    "elif char.upper() in 'aeiou':\n",
    "    print(\"CHARACTER IS VOWEL\")\n",
    "else:\n",
    "    print(\"CHARACTER IS NOT VOWEL\")"
   ]
  },
  {
   "cell_type": "code",
   "execution_count": 75,
   "id": "3ff1178c-b6db-4098-a9e8-40dba0a6362a",
   "metadata": {},
   "outputs": [
    {
     "name": "stdin",
     "output_type": "stream",
     "text": [
      "Enter a character:  e\n"
     ]
    },
    {
     "name": "stdout",
     "output_type": "stream",
     "text": [
      "Lowercase Letter\n"
     ]
    }
   ],
   "source": [
    "#wap to take input to check whether it is a number or a character if it's character determine whether it is upper or lower case\n",
    "ch = input(\"Enter a character: \")\n",
    "if ch.isupper():\n",
    "    print(\"Uppercase Letter\")\n",
    "elif ch.islower():\n",
    "    print(\"Lowercase Letter\")\n",
    "else:\n",
    "    print(\"Number\")"
   ]
  },
  {
   "cell_type": "code",
   "execution_count": 76,
   "id": "e1dfe9dd-cf1e-42e0-b2e7-8aa3ca745ffe",
   "metadata": {},
   "outputs": [
    {
     "name": "stdin",
     "output_type": "stream",
     "text": [
      "enter x 4\n",
      "enter y 3\n",
      "enter z 2\n"
     ]
    },
    {
     "name": "stdout",
     "output_type": "stream",
     "text": [
      "x is largest\n"
     ]
    }
   ],
   "source": [
    "#wap to find largest out of giver number using nested if\n",
    "x=int(input(\"enter x\"))\n",
    "y=int(input(\"enter y\"))\n",
    "z=int(input(\"enter z\"))\n",
    "if(x>y):\n",
    "  if(x>z):\n",
    "      print(\"x is largest\")\n",
    "elif(y>x and y>z):\n",
    "      print(\"y is largest\")\n",
    "else:\n",
    "    print(\"z is largest\")"
   ]
  },
  {
   "cell_type": "code",
   "execution_count": 77,
   "id": "4bcb98c1-7bd6-43b3-ab33-0edd3f6af434",
   "metadata": {},
   "outputs": [
    {
     "name": "stdin",
     "output_type": "stream",
     "text": [
      "enter x 3\n",
      "enter y 2\n",
      "enter z 1\n"
     ]
    },
    {
     "name": "stdout",
     "output_type": "stream",
     "text": [
      "number in ascending order: 1 2 3\n",
      "number is descending order: 3 2 1\n"
     ]
    }
   ],
   "source": [
    "#sorting of three number(ascending or descending order\n",
    "x=int(input(\"enter x\"))\n",
    "y=int(input(\"enter y\"))\n",
    "z=int(input(\"enter z\"))\n",
    "min=max=mid=None\n",
    "if(x>=y and x>=z):\n",
    "   if(y>=z):\n",
    "       min,mid,max=z,y,x\n",
    "   else:\n",
    "       min,mid,max=y,z,x\n",
    "elif(y>=x and y>=z):\n",
    "    if(x>=z):\n",
    "        min,mid,max=z,x,y\n",
    "    else:\n",
    "        min,mid,max=x,z,y\n",
    "elif(z>=x and z>=y):\n",
    "    if(x>=y):\n",
    "        min,mid,max=y,x,z\n",
    "    else:\n",
    "        min,mid,max=x,y,z\n",
    "print(\"number in ascending order:\",min,mid,max)\n",
    "print(\"number is descending order:\",max,mid,min)"
   ]
  },
  {
   "cell_type": "code",
   "execution_count": 78,
   "id": "2b86a101-3d02-4238-9a7c-d7044ed23e81",
   "metadata": {},
   "outputs": [
    {
     "name": "stdin",
     "output_type": "stream",
     "text": [
      "Enter a number:  23\n"
     ]
    },
    {
     "name": "stdout",
     "output_type": "stream",
     "text": [
      "Absolute value is: 23\n"
     ]
    }
   ],
   "source": [
    "#ABSOLUTE VALUE\n",
    "n= float(input(\"Enter a number: \"))\n",
    "if(n-int(n)>0 or n-int(n)<0): #to check if number is int or float\n",
    "   pass\n",
    "else:\n",
    "  n=int(n)\n",
    "if num > 0:\n",
    "    print(\"Absolute value is:\", n)\n",
    "elif num<0:\n",
    "    print(\"Absolute value is:\", -n)\n",
    "else:\n",
    "    print(\"absolute value is zero\")"
   ]
  },
  {
   "cell_type": "code",
   "execution_count": 79,
   "id": "35b3f3dd-8b4b-491c-b540-53065c868c50",
   "metadata": {},
   "outputs": [
    {
     "name": "stdout",
     "output_type": "stream",
     "text": [
      "sum of 1 to 10 is: 55\n"
     ]
    }
   ],
   "source": [
    "#ITERATION STATEMENT\n",
    "num=1\n",
    "sum=0\n",
    "while(num<=10):\n",
    "   sum+=num\n",
    "   num+=1\n",
    "print(\"sum of 1 to 10 is:\",sum)"
   ]
  },
  {
   "cell_type": "code",
   "execution_count": 9,
   "id": "e28af0b0-7067-4fd1-abea-ce0b69cd91a2",
   "metadata": {},
   "outputs": [
    {
     "name": "stdin",
     "output_type": "stream",
     "text": [
      "enter a number 153\n"
     ]
    },
    {
     "name": "stdout",
     "output_type": "stream",
     "text": [
      "number is armstrong number\n"
     ]
    }
   ],
   "source": [
    "#wap whether a giver number is in armstrong number\n",
    "num=int(input(\"enter a number\"))\n",
    "original_num=num\n",
    "sum_of_power=0\n",
    "n=len(str(num))\n",
    "temp_num=num\n",
    "while temp_num>0:\n",
    "     digit =temp_num%10\n",
    "     sum_of_power += digit**n\n",
    "     temp_num//=10\n",
    "if sum_of_power==original_num:\n",
    "   print(\"number is armstrong number\")\n",
    "else:\n",
    "   print(\"number is not armstrong\")"
   ]
  },
  {
   "cell_type": "code",
   "execution_count": 20,
   "id": "cfc1b86b-ad8a-460a-89e4-4fe19cf1c550",
   "metadata": {},
   "outputs": [
    {
     "name": "stdin",
     "output_type": "stream",
     "text": [
      "enter the decimal number 25\n"
     ]
    },
    {
     "name": "stdout",
     "output_type": "stream",
     "text": [
      "binary equivalent:11001\n"
     ]
    }
   ],
   "source": [
    "# to enter a decimal number,calculate and display the binary number\n",
    "decimal_number=int(input(\"enter the decimal number\"))\n",
    "binary_number= \"\"\n",
    "num=decimal_number\n",
    "if num==0:\n",
    "    binary_number=\"0\"\n",
    "else:\n",
    "    while num>0:\n",
    "        remainder=num%2\n",
    "        binary_number=str(remainder)+binary_number\n",
    "        num=num//2\n",
    "print(f\"binary equivalent:{binary_number}\")"
   ]
  },
  {
   "cell_type": "code",
   "execution_count": 27,
   "id": "5066d75d-2c29-4330-8b77-6480872ef585",
   "metadata": {},
   "outputs": [
    {
     "name": "stdin",
     "output_type": "stream",
     "text": [
      "enter the number 345\n"
     ]
    },
    {
     "name": "stdout",
     "output_type": "stream",
     "text": [
      "reverse is 0\n"
     ]
    }
   ],
   "source": [
    "#to print reverse of number\n",
    "num=int(input(\"enter the number\"))\n",
    "reversed_num=0\n",
    "is_negative=False\n",
    "if num<0:\n",
    "    is_negative=True\n",
    "    num=abs(num)\n",
    "\n",
    "while(n>0):\n",
    "    digit=num%10\n",
    "    reversed_num=reversed_num*10+digit\n",
    "    num//=10\n",
    "print(\"reverse is\",reversed_num)"
   ]
  },
  {
   "cell_type": "code",
   "execution_count": 30,
   "id": "cde91c20-8023-4a38-9b35-02ab2458fa47",
   "metadata": {},
   "outputs": [
    {
     "name": "stdout",
     "output_type": "stream",
     "text": [
      "12345678910"
     ]
    }
   ],
   "source": [
    "#RANGE\n",
    "#for loop\n",
    "for num in range(1,11,1):\n",
    "    print(num,end=\"\")"
   ]
  },
  {
   "cell_type": "code",
   "execution_count": 32,
   "id": "37074f2d-0dc9-4e11-af7f-8a4bd141e1ac",
   "metadata": {},
   "outputs": [
    {
     "name": "stdout",
     "output_type": "stream",
     "text": [
      "mango\n",
      "apple\n",
      "grape\n",
      "cherry\n"
     ]
    }
   ],
   "source": [
    "#print each element in fruit list\n",
    "fruit=[\"mango\",\"apple\",\"grape\",\"cherry\"]\n",
    "for x in fruit:\n",
    "    print(x)"
   ]
  },
  {
   "cell_type": "code",
   "execution_count": 38,
   "id": "782067cd-3242-4840-b834-c895f084e606",
   "metadata": {},
   "outputs": [
    {
     "name": "stdin",
     "output_type": "stream",
     "text": [
      "enter a number 4\n"
     ]
    },
    {
     "name": "stdout",
     "output_type": "stream",
     "text": [
      "factorial 24\n"
     ]
    }
   ],
   "source": [
    "#wap for loop to calculate factorial of a number\n",
    "n=int(input(\"enter a number\"))\n",
    "fact=1\n",
    "for i in range(1,(n+1)):\n",
    "    fact=fact*i\n",
    "print(\"factorial\",fact)"
   ]
  },
  {
   "cell_type": "code",
   "execution_count": 50,
   "id": "910b1c1a-89af-402e-b02f-02f9af74e777",
   "metadata": {},
   "outputs": [
    {
     "name": "stdin",
     "output_type": "stream",
     "text": [
      "enter a number 10\n"
     ]
    },
    {
     "name": "stdout",
     "output_type": "stream",
     "text": [
      "10 * 1 = 10\n",
      "10 * 2 = 20\n",
      "10 * 3 = 30\n",
      "10 * 4 = 40\n",
      "10 * 5 = 50\n",
      "10 * 6 = 60\n",
      "10 * 7 = 70\n",
      "10 * 8 = 80\n",
      "10 * 9 = 90\n",
      "10 * 10 = 100\n"
     ]
    }
   ],
   "source": [
    "#write multiplication table of n\n",
    "n=int(input(\"enter a number\"))\n",
    "for i in range(1,11):\n",
    "    print(n,\"*\",i,\"=\",n*i)"
   ]
  },
  {
   "cell_type": "code",
   "execution_count": 72,
   "id": "cd3ea5ae-6129-4529-91c0-7b1664f80bf9",
   "metadata": {},
   "outputs": [
    {
     "name": "stdout",
     "output_type": "stream",
     "text": [
      "1904 is a leap year\n",
      "1908 is a leap year\n",
      "1912 is a leap year\n",
      "1916 is a leap year\n",
      "1920 is a leap year\n",
      "1924 is a leap year\n",
      "1928 is a leap year\n",
      "1932 is a leap year\n",
      "1936 is a leap year\n",
      "1940 is a leap year\n",
      "1944 is a leap year\n",
      "1948 is a leap year\n",
      "1952 is a leap year\n",
      "1956 is a leap year\n",
      "1960 is a leap year\n",
      "1964 is a leap year\n",
      "1968 is a leap year\n",
      "1972 is a leap year\n",
      "1976 is a leap year\n",
      "1980 is a leap year\n",
      "1984 is a leap year\n",
      "1988 is a leap year\n",
      "1992 is a leap year\n",
      "1996 is a leap year\n",
      "2000 is a leap year\n",
      "2004 is a leap year\n",
      "2008 is a leap year\n",
      "2012 is a leap year\n",
      "2016 is a leap year\n",
      "2020 is a leap year\n",
      "2024 is a leap year\n",
      "2028 is a leap year\n",
      "2032 is a leap year\n",
      "2036 is a leap year\n",
      "2040 is a leap year\n",
      "2044 is a leap year\n",
      "2048 is a leap year\n",
      "2052 is a leap year\n",
      "2056 is a leap year\n",
      "2060 is a leap year\n",
      "2064 is a leap year\n",
      "2068 is a leap year\n",
      "2072 is a leap year\n",
      "2076 is a leap year\n",
      "2080 is a leap year\n",
      "2084 is a leap year\n",
      "2088 is a leap year\n",
      "2092 is a leap year\n",
      "2096 is a leap year\n"
     ]
    }
   ],
   "source": [
    "# WAP to display leap years from 1900 to 2101\n",
    "for year in range(1900, 2102):  # include 2101\n",
    "    if (year % 4 == 0 and year % 100 != 0) or (year % 400 == 0):\n",
    "        print(year, \"is a leap year\")"
   ]
  },
  {
   "cell_type": "code",
   "execution_count": 71,
   "id": "0bee2aa4-2ec0-4ddd-bdb3-c33b7cf5d0af",
   "metadata": {},
   "outputs": [
    {
     "name": "stdin",
     "output_type": "stream",
     "text": [
      "Enter the number:  10\n"
     ]
    },
    {
     "name": "stdout",
     "output_type": "stream",
     "text": [
      "Term 1: 1/1 = 1.0000, Current Sum = 1.0000\n",
      "Term 2: 1/2 = 0.5000, Current Sum = 1.5000\n",
      "Term 3: 1/3 = 0.3333, Current Sum = 1.8333\n",
      "Term 4: 1/4 = 0.2500, Current Sum = 2.0833\n",
      "Term 5: 1/5 = 0.2000, Current Sum = 2.2833\n",
      "Term 6: 1/6 = 0.1667, Current Sum = 2.4500\n",
      "Term 7: 1/7 = 0.1429, Current Sum = 2.5929\n",
      "Term 8: 1/8 = 0.1250, Current Sum = 2.7179\n",
      "Term 9: 1/9 = 0.1111, Current Sum = 2.8290\n",
      "Term 10: 1/10 = 0.1000, Current Sum = 2.9290\n",
      "Final Sum = 2.93\n"
     ]
    }
   ],
   "source": [
    "# WAP to sum the series using for loop\n",
    "n = int(input(\"Enter the number: \"))\n",
    "sum_series = 0\n",
    "for i in range(1, n+1):\n",
    "    sum_series += 1/i\n",
    "    print(f\"Term {i}: 1/{i} = {1/i:.4f}, Current Sum = {sum_series:.4f}\")\n",
    "print(f\"Final Sum = {sum_series:.2f}\")"
   ]
  },
  {
   "cell_type": "code",
   "execution_count": 70,
   "id": "39033eda-0df7-4c2b-806b-4b108f729fd3",
   "metadata": {},
   "outputs": [
    {
     "name": "stdin",
     "output_type": "stream",
     "text": [
      "enter the number 10\n"
     ]
    },
    {
     "name": "stdout",
     "output_type": "stream",
     "text": [
      "adding cube of 1:1^3=1,current sum=1\n",
      "adding cube of 2:2^3=8,current sum=9\n",
      "adding cube of 3:3^3=27,current sum=36\n",
      "adding cube of 4:4^3=64,current sum=100\n",
      "adding cube of 5:5^3=125,current sum=225\n",
      "adding cube of 6:6^3=216,current sum=441\n",
      "adding cube of 7:7^3=343,current sum=784\n",
      "adding cube of 8:8^3=512,current sum=1296\n",
      "adding cube of 9:9^3=729,current sum=2025\n",
      "adding cube of 10:10^3=1000,current sum=3025\n",
      "total sum 3025\n"
     ]
    }
   ],
   "source": [
    "#wap to calculate sum of cubes of number 1 to n\n",
    "n=int(input(\"enter the number\"))\n",
    "sum_cubes=0\n",
    "for i in range(1,n+1):\n",
    "    sum_cubes+=i**3\n",
    "    print(f\"adding cube of {i}:{i}^3={i**3},current sum={sum_cubes}\")\n",
    "print(\"total sum\",sum_cubes)"
   ]
  },
  {
   "cell_type": "code",
   "execution_count": null,
   "id": "22f23ca6-dc5e-4c54-84e8-2d0338581ff6",
   "metadata": {},
   "outputs": [],
   "source": []
  }
 ],
 "metadata": {
  "kernelspec": {
   "display_name": "Python 3 (ipykernel)",
   "language": "python",
   "name": "python3"
  },
  "language_info": {
   "codemirror_mode": {
    "name": "ipython",
    "version": 3
   },
   "file_extension": ".py",
   "mimetype": "text/x-python",
   "name": "python",
   "nbconvert_exporter": "python",
   "pygments_lexer": "ipython3",
   "version": "3.13.5"
  }
 },
 "nbformat": 4,
 "nbformat_minor": 5
}
