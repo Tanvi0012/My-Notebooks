{
 "cells": [
  {
   "cell_type": "code",
   "execution_count": 72,
   "id": "fff677ec-76ba-4904-8bbd-45c169ba59c5",
   "metadata": {},
   "outputs": [],
   "source": [
    "#break and continue and pass statement"
   ]
  },
  {
   "cell_type": "code",
   "execution_count": 18,
   "id": "1c73d874-b824-40ec-8c64-3937debd24f2",
   "metadata": {},
   "outputs": [
    {
     "name": "stdout",
     "output_type": "stream",
     "text": [
      "[1, 2, 3, 4]\n"
     ]
    }
   ],
   "source": [
    "li1=[]\n",
    "for i in range(1,11):\n",
    "   if i==5:\n",
    "    break;\n",
    "   li1.append(i)\n",
    "print(li1)"
   ]
  },
  {
   "cell_type": "code",
   "execution_count": 38,
   "id": "1087da2f-4c3e-4cde-8755-2bb05cff73b9",
   "metadata": {},
   "outputs": [
    {
     "name": "stdout",
     "output_type": "stream",
     "text": [
      "1\n",
      "3\n",
      "5\n",
      "7\n",
      "9\n"
     ]
    }
   ],
   "source": [
    "li1=[]\n",
    "for i in range(1,11):\n",
    "    if i%2==0:\n",
    "       continue\n",
    "    print(i)"
   ]
  },
  {
   "cell_type": "code",
   "execution_count": 39,
   "id": "7015acf8-34aa-41cb-b941-03822713de26",
   "metadata": {},
   "outputs": [
    {
     "name": "stdout",
     "output_type": "stream",
     "text": [
      "[1, 2, 3, 4, 5, 6, 7, 8, 9, 10]\n"
     ]
    }
   ],
   "source": [
    "li1=[]\n",
    "for i in range(1,11):\n",
    "   if i==5:\n",
    "    pass;\n",
    "   li1.append(i)\n",
    "print(li1)"
   ]
  },
  {
   "cell_type": "code",
   "execution_count": 42,
   "id": "8a56ffa2-18f0-4f17-98eb-f780befb9e22",
   "metadata": {},
   "outputs": [],
   "source": [
    "#FUNCTION\n",
    "#dry and wet principle\n",
    "#dry-don't repeat yourself\n",
    "#wet- we enjoy trying"
   ]
  },
  {
   "cell_type": "code",
   "execution_count": 48,
   "id": "82308358-97e4-4b3e-8ed9-4d0220608f85",
   "metadata": {},
   "outputs": [
    {
     "name": "stdin",
     "output_type": "stream",
     "text": [
      "enter number1 12\n",
      "enter number2 2\n"
     ]
    },
    {
     "name": "stdout",
     "output_type": "stream",
     "text": [
      "10\n"
     ]
    }
   ],
   "source": [
    "def diffrence(a,b):\n",
    "    return a-b\n",
    "num1=int(input(\"enter number1\"))\n",
    "num2=int(input(\"enter number2\"))\n",
    "print(diffrence(num1,num2))"
   ]
  },
  {
   "cell_type": "code",
   "execution_count": 49,
   "id": "c9b8834d-5219-4142-aba6-b18e071b87de",
   "metadata": {},
   "outputs": [],
   "source": [
    "#wap to check the mismatch b/w funtuon parameter and arguments"
   ]
  },
  {
   "cell_type": "code",
   "execution_count": 50,
   "id": "35d037ae-661c-4e19-9d71-72b222b8e1f9",
   "metadata": {},
   "outputs": [
    {
     "ename": "TypeError",
     "evalue": "fun() takes 2 positional arguments but 3 were given",
     "output_type": "error",
     "traceback": [
      "\u001b[1;31m---------------------------------------------------------------------------\u001b[0m",
      "\u001b[1;31mTypeError\u001b[0m                                 Traceback (most recent call last)",
      "Cell \u001b[1;32mIn[50], line 3\u001b[0m\n\u001b[0;32m      1\u001b[0m \u001b[38;5;28;01mdef\u001b[39;00m\u001b[38;5;250m \u001b[39m\u001b[38;5;21mfun\u001b[39m(a,b):\n\u001b[0;32m      2\u001b[0m     \u001b[38;5;28;01mreturn\u001b[39;00m a,b,\n\u001b[1;32m----> 3\u001b[0m fun(\u001b[38;5;241m1\u001b[39m,\u001b[38;5;241m2\u001b[39m,\u001b[38;5;241m3\u001b[39m)\n",
      "\u001b[1;31mTypeError\u001b[0m: fun() takes 2 positional arguments but 3 were given"
     ]
    }
   ],
   "source": [
    "def fun(a,b):\n",
    "    return a,b,\n",
    "fun(1,2,3)"
   ]
  },
  {
   "cell_type": "code",
   "execution_count": 58,
   "id": "bb36cddd-6156-48e3-99fc-c0c902aa5740",
   "metadata": {},
   "outputs": [
    {
     "data": {
      "text/plain": [
       "(10,)"
      ]
     },
     "execution_count": 58,
     "metadata": {},
     "output_type": "execute_result"
    }
   ],
   "source": [
    "def fun(i):\n",
    "    \n",
    "    return i,\n",
    "j=10\n",
    "fun(j)"
   ]
  },
  {
   "cell_type": "code",
   "execution_count": 70,
   "id": "c98dfc2c-d2c3-4b5e-b455-10c261865549",
   "metadata": {},
   "outputs": [
    {
     "name": "stdout",
     "output_type": "stream",
     "text": [
      "hello world 10\n"
     ]
    }
   ],
   "source": [
    "def fun(i):\n",
    "    print(\"hello world\",i)\n",
    "j=10\n",
    "fun(j)"
   ]
  },
  {
   "cell_type": "code",
   "execution_count": 62,
   "id": "3341b405-4a17-408b-bfaf-2809af20902d",
   "metadata": {},
   "outputs": [
    {
     "ename": "TypeError",
     "evalue": "can only concatenate str (not \"int\") to str",
     "output_type": "error",
     "traceback": [
      "\u001b[1;31m---------------------------------------------------------------------------\u001b[0m",
      "\u001b[1;31mTypeError\u001b[0m                                 Traceback (most recent call last)",
      "Cell \u001b[1;32mIn[62], line 5\u001b[0m\n\u001b[0;32m      3\u001b[0m     \u001b[38;5;28;01mreturn\u001b[39;00m i,\n\u001b[0;32m      4\u001b[0m j\u001b[38;5;241m=\u001b[39m\u001b[38;5;241m10\u001b[39m\n\u001b[1;32m----> 5\u001b[0m fun(j)\n",
      "Cell \u001b[1;32mIn[62], line 2\u001b[0m, in \u001b[0;36mfun\u001b[1;34m(i)\u001b[0m\n\u001b[0;32m      1\u001b[0m \u001b[38;5;28;01mdef\u001b[39;00m\u001b[38;5;250m \u001b[39m\u001b[38;5;21mfun\u001b[39m(i):\n\u001b[1;32m----> 2\u001b[0m     \u001b[38;5;28mprint\u001b[39m(\u001b[38;5;124m\"\u001b[39m\u001b[38;5;124mhello world\u001b[39m\u001b[38;5;124m\"\u001b[39m\u001b[38;5;241m+\u001b[39mi)\n\u001b[0;32m      3\u001b[0m     \u001b[38;5;28;01mreturn\u001b[39;00m i,\n",
      "\u001b[1;31mTypeError\u001b[0m: can only concatenate str (not \"int\") to str"
     ]
    }
   ],
   "source": [
    "def fun(i):\n",
    "    print(\"hello world\"+i)\n",
    "    return i,\n",
    "j=10\n",
    "fun(j)"
   ]
  },
  {
   "cell_type": "code",
   "execution_count": 69,
   "id": "ab9bab77-9eea-4699-8556-8bf4fc74d65f",
   "metadata": {},
   "outputs": [
    {
     "name": "stdout",
     "output_type": "stream",
     "text": [
      "hello world 16\n"
     ]
    }
   ],
   "source": [
    "def fun(i):\n",
    "    print(\"hello world\",i)\n",
    "\n",
    "fun(10+2*3)"
   ]
  },
  {
   "cell_type": "code",
   "execution_count": 71,
   "id": "c917d92f-5252-4c4c-89b0-f251bbe73807",
   "metadata": {},
   "outputs": [],
   "source": [
    "#GLOBAL VARIABLE AND GLOBAL VARIABLE"
   ]
  },
  {
   "cell_type": "code",
   "execution_count": 73,
   "id": "3a57dac3-6a03-47d7-951a-d04ca5b726d9",
   "metadata": {},
   "outputs": [
    {
     "name": "stdout",
     "output_type": "stream",
     "text": [
      "Inside function, x (global): 10\n",
      "Inside function, y (local): 5\n",
      "Outside function, x (global): 10\n"
     ]
    }
   ],
   "source": [
    "# Global variable\n",
    "x = 10  \n",
    "\n",
    "def my_function():\n",
    "    # Local variable\n",
    "    y = 5\n",
    "    print(\"Inside function, x (global):\", x)\n",
    "    print(\"Inside function, y (local):\", y)\n",
    "\n",
    "my_function()\n",
    "\n",
    "print(\"Outside function, x (global):\", x)"
   ]
  },
  {
   "cell_type": "code",
   "execution_count": null,
   "id": "8c959a3b-ab35-4bc9-9649-726826608242",
   "metadata": {},
   "outputs": [],
   "source": []
  }
 ],
 "metadata": {
  "kernelspec": {
   "display_name": "Python 3 (ipykernel)",
   "language": "python",
   "name": "python3"
  },
  "language_info": {
   "codemirror_mode": {
    "name": "ipython",
    "version": 3
   },
   "file_extension": ".py",
   "mimetype": "text/x-python",
   "name": "python",
   "nbconvert_exporter": "python",
   "pygments_lexer": "ipython3",
   "version": "3.13.5"
  }
 },
 "nbformat": 4,
 "nbformat_minor": 5
}
