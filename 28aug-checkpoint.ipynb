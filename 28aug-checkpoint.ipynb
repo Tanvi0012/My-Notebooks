{
 "cells": [
  {
   "cell_type": "code",
   "execution_count": 17,
   "id": "ac4d4a91-784c-4c5a-b6d9-8f11cfb77621",
   "metadata": {},
   "outputs": [
    {
     "name": "stdout",
     "output_type": "stream",
     "text": [
      "hello world\n"
     ]
    }
   ],
   "source": [
    "print(\"hello world\")"
   ]
  },
  {
   "cell_type": "code",
   "execution_count": 14,
   "id": "765a42fc-b55c-435a-a748-fb8378d2b5b3",
   "metadata": {},
   "outputs": [
    {
     "name": "stdout",
     "output_type": "stream",
     "text": [
      "19\n",
      "7\n",
      "78\n",
      "2.1666666666666665\n",
      "1\n",
      "4826809\n",
      "2\n",
      "-3\n"
     ]
    }
   ],
   "source": [
    "#Arithmetic operation\n",
    "x=13\n",
    "y=6\n",
    "# Addition\n",
    "print(x + y)  \n",
    "# Subtraction\n",
    "print(x - y) \n",
    "# Multiplication\n",
    "print(x * y)\n",
    "# Division\n",
    "print(x / y)\n",
    "# Modulus\n",
    "print(x % y)\n",
    "# Exponentiation\n",
    "print(x ** y)\n",
    "# Floor Division\n",
    "print(x // y)\n",
    "print(-x // y)\n",
    "#in case of //,the float will move to the nearest number\n",
    "#and in case of -//,it will move toward -infinity"
   ]
  },
  {
   "cell_type": "code",
   "execution_count": 18,
   "id": "fd968bef-0a9d-4b3a-a376-8441df521693",
   "metadata": {},
   "outputs": [
    {
     "name": "stdout",
     "output_type": "stream",
     "text": [
      "0.1\n",
      "0.5\n",
      "1\n",
      "1\n"
     ]
    }
   ],
   "source": [
    "print(10**-1)\n",
    "print(2**-1)\n",
    "print(7**0)\n",
    "print(7%2)"
   ]
  },
  {
   "cell_type": "code",
   "execution_count": 19,
   "id": "4fecb7e6-f557-45ac-9ddd-08e1e22a7907",
   "metadata": {},
   "outputs": [
    {
     "name": "stdout",
     "output_type": "stream",
     "text": [
      "False\n",
      "True\n",
      "True\n",
      "False\n",
      "True\n",
      "False\n"
     ]
    }
   ],
   "source": [
    "#Comparison operation\n",
    "x=13\n",
    "y=6\n",
    "# Equal to\n",
    "print(x == y) \n",
    "# Not equal to\n",
    "print(x != y)\n",
    "# Greater than\n",
    "print(x > y) \n",
    "# Less than\n",
    "print(x < y)  \n",
    "# Greater than equal to\n",
    "print(x >= y)\n",
    "# Less than equal to\n",
    "print(x <= y)"
   ]
  },
  {
   "cell_type": "code",
   "execution_count": 26,
   "id": "20daadba-56cd-4d56-ba3c-5d9e9334dc4f",
   "metadata": {},
   "outputs": [
    {
     "name": "stdout",
     "output_type": "stream",
     "text": [
      "11\n"
     ]
    }
   ],
   "source": [
    "#Assignment operator\n",
    "x=8\n",
    "x+=3\n",
    "print(x)"
   ]
  },
  {
   "cell_type": "code",
   "execution_count": 29,
   "id": "ad51b2fb-d967-40c9-af08-e7928b12cb27",
   "metadata": {},
   "outputs": [
    {
     "name": "stdout",
     "output_type": "stream",
     "text": [
      "5\n"
     ]
    }
   ],
   "source": [
    "x=8\n",
    "x-=3\n",
    "print(x)"
   ]
  },
  {
   "cell_type": "code",
   "execution_count": 30,
   "id": "47139595-f997-45ad-a9de-112b50aaae1e",
   "metadata": {},
   "outputs": [
    {
     "name": "stdout",
     "output_type": "stream",
     "text": [
      "24\n"
     ]
    }
   ],
   "source": [
    "x=8\n",
    "x*=3\n",
    "print(x)"
   ]
  },
  {
   "cell_type": "code",
   "execution_count": 37,
   "id": "5d877e28-a121-476c-880d-95369ac7cfd5",
   "metadata": {},
   "outputs": [
    {
     "name": "stdout",
     "output_type": "stream",
     "text": [
      "2.0\n"
     ]
    }
   ],
   "source": [
    "x=8\n",
    "x/=4\n",
    "print(x)"
   ]
  },
  {
   "cell_type": "code",
   "execution_count": 40,
   "id": "dfdc462e-c82a-4685-9bcd-35d35f3636d1",
   "metadata": {},
   "outputs": [
    {
     "name": "stdout",
     "output_type": "stream",
     "text": [
      "1\n"
     ]
    }
   ],
   "source": [
    "x=9\n",
    "x%=2\n",
    "print(x)"
   ]
  },
  {
   "cell_type": "code",
   "execution_count": 43,
   "id": "2120d31d-24b3-446f-931e-25855a08e26a",
   "metadata": {},
   "outputs": [
    {
     "name": "stdout",
     "output_type": "stream",
     "text": [
      "4\n"
     ]
    }
   ],
   "source": [
    "x=9\n",
    "x//=2\n",
    "print(x)"
   ]
  },
  {
   "cell_type": "code",
   "execution_count": 44,
   "id": "d38c69f5-c61c-4008-b691-2e65d25335ce",
   "metadata": {},
   "outputs": [
    {
     "name": "stdout",
     "output_type": "stream",
     "text": [
      "25\n"
     ]
    }
   ],
   "source": [
    "x=5\n",
    "x**=2\n",
    "print(x)"
   ]
  },
  {
   "cell_type": "code",
   "execution_count": 20,
   "id": "dc2c4caa-0d40-44e9-8a7e-f894771cf9a5",
   "metadata": {},
   "outputs": [
    {
     "name": "stdout",
     "output_type": "stream",
     "text": [
      "False\n",
      "True\n",
      "True\n"
     ]
    }
   ],
   "source": [
    "#logical operator\n",
    "a=2\n",
    "b=10\n",
    "print(a<5 and b>19)\n",
    "print(a<5 or b>19)\n",
    "print(not a>b)"
   ]
  },
  {
   "cell_type": "code",
   "execution_count": null,
   "id": "ea8e4dc3-f92e-4b3b-bfae-2a22b070345f",
   "metadata": {},
   "outputs": [],
   "source": []
  }
 ],
 "metadata": {
  "kernelspec": {
   "display_name": "Python 3 (ipykernel)",
   "language": "python",
   "name": "python3"
  },
  "language_info": {
   "codemirror_mode": {
    "name": "ipython",
    "version": 3
   },
   "file_extension": ".py",
   "mimetype": "text/x-python",
   "name": "python",
   "nbconvert_exporter": "python",
   "pygments_lexer": "ipython3",
   "version": "3.13.5"
  }
 },
 "nbformat": 4,
 "nbformat_minor": 5
}
