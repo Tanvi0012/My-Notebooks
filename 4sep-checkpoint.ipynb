{
 "cells": [
  {
   "cell_type": "code",
   "execution_count": 6,
   "id": "da50f382-2d6d-42ff-baaf-d42459970d8f",
   "metadata": {},
   "outputs": [
    {
     "name": "stdin",
     "output_type": "stream",
     "text": [
      "What's your name? tanvi\n",
      "enter your age: 19\n"
     ]
    },
    {
     "name": "stdout",
     "output_type": "stream",
     "text": [
      "tanvi you are 19 years old\n"
     ]
    }
   ],
   "source": [
    "name=input(\"What's your name?\")\n",
    "age=input(\"enter your age:\")\n",
    "print(name,\"you are\",age,\"years old\")"
   ]
  },
  {
   "cell_type": "code",
   "execution_count": 13,
   "id": "58b7de28-422a-4a4e-90d6-de4a6e44b204",
   "metadata": {},
   "outputs": [
    {
     "name": "stdin",
     "output_type": "stream",
     "text": [
      "Enter a number: 9\n"
     ]
    },
    {
     "name": "stdout",
     "output_type": "stream",
     "text": [
      "The hexadecimal value of 9 is 0x9\n",
      "the octal value of 9 is 0o11\n",
      "the square root of 9 is 3.0\n"
     ]
    }
   ],
   "source": [
    "#conversions\n",
    "num=int(input(\"Enter a number:\"))\n",
    "print(\"The hexadecimal value of\",num,\"is\", hex(num))\n",
    "print(\"the octal value of\",num, \"is\", oct(num))\n",
    "print(\"the square root of\",num,\"is\",num**0.5)"
   ]
  },
  {
   "cell_type": "code",
   "execution_count": 19,
   "id": "87e1e8b8-1e8f-43cf-b905-011805f6caf6",
   "metadata": {},
   "outputs": [
    {
     "name": "stdin",
     "output_type": "stream",
     "text": [
      "enter the value of a: 1\n",
      "enter the value of b: 2\n",
      "enter the value of c: 3\n"
     ]
    },
    {
     "name": "stdout",
     "output_type": "stream",
     "text": [
      "0.0\n"
     ]
    }
   ],
   "source": [
    "#area of triangle\n",
    "a=float(input(\"enter the value of a:\"))\n",
    "b=float(input(\"enter the value of b:\"))\n",
    "c=float(input(\"enter the value of c:\"))\n",
    "s=(a+b+c)/2\n",
    "area=(s*(s-a)*(s-b)*(s-c))**0.5\n",
    "print(area)"
   ]
  },
  {
   "cell_type": "code",
   "execution_count": 22,
   "id": "5bb55901-ab6f-47b1-8b11-1ae25bd4e0e3",
   "metadata": {},
   "outputs": [
    {
     "name": "stdin",
     "output_type": "stream",
     "text": [
      "enter the first coordinates of x: 2\n",
      "enter the second coordinates of x: 3\n",
      "enter the first coordinates of y: 5\n",
      "enter the first coordinates of y: 3\n"
     ]
    },
    {
     "name": "stdout",
     "output_type": "stream",
     "text": [
      "(8.659560562354934e-17+1.4142135623730951j)\n"
     ]
    }
   ],
   "source": [
    "#distance between 2 coordinates\n",
    "x1=float(input(\"enter the first coordinates of x:\"))\n",
    "x2=float(input(\"enter the second coordinates of x:\"))\n",
    "y1=float(input(\"enter the first coordinates of y:\"))\n",
    "y2=float(input(\"enter the first coordinates of y:\"))\n",
    "distance= (x2-x1)*(y2-y1)**0.5\n",
    "print(distance)"
   ]
  },
  {
   "cell_type": "code",
   "execution_count": 29,
   "id": "8c71b716-21d1-4381-9c42-d26e991f2b45",
   "metadata": {},
   "outputs": [
    {
     "name": "stdin",
     "output_type": "stream",
     "text": [
      "enter the first value 5\n",
      "enter the second value 2\n"
     ]
    },
    {
     "name": "stdout",
     "output_type": "stream",
     "text": [
      "the sum of 5.0 and 2.0 is 7.0\n",
      "the subtraction of 5.0 and 2.0 is 3.0\n",
      "the multiplication of 5.0 and 2.0 is 10.0\n",
      "the division of 5.0 and 2.0 is 2.5\n",
      "the sum of 5.0 and 2.0 is 7\n",
      "the subtraction of 5.0 and 2.0 is 3\n",
      "the multiplication of 5.0 and 2.0 is 10\n",
      "the division of 5.0 and 2.0 is 2\n"
     ]
    }
   ],
   "source": [
    "#simple mathematics\n",
    "import math\n",
    "a=float(input(\"enter the first value\"))\n",
    "b=float(input(\"enter the second value\"))\n",
    "print(\"the sum of\",a,\"and\",b,\"is\",a+b)\n",
    "print(\"the subtraction of\",a,\"and\",b,\"is\",a-b)\n",
    "print(\"the multiplication of\",a,\"and\",b,\"is\",a*b)\n",
    "print(\"the division of\",a,\"and\",b,\"is\",a/b)\n",
    "\n",
    "#FLOOR FUNCTION\n",
    "print(\"the sum of\",a,\"and\",b,\"is\",math.floor(a+b))\n",
    "print(\"the subtraction of\",a,\"and\",b,\"is\",math.floor(a-b))\n",
    "print(\"the multiplication of\",a,\"and\",b,\"is\",math.floor(a*b))\n",
    "print(\"the division of\",a,\"and\",b,\"is\",math.floor(a/b))"
   ]
  },
  {
   "cell_type": "code",
   "execution_count": 2,
   "id": "c9255b94-914e-4884-9b12-7c9c3aaf7620",
   "metadata": {},
   "outputs": [
    {
     "name": "stdin",
     "output_type": "stream",
     "text": [
      "Enter quantity sold:  5\n",
      "Enter price per item:  10\n",
      "Enter discount %:  2\n",
      "Enter tax %:  3\n"
     ]
    },
    {
     "name": "stdout",
     "output_type": "stream",
     "text": [
      "********************** BILL *********************\n",
      "                                                  \n",
      "********************** BILL **********************\n",
      "                                                  \n",
      "Quantity Sold:                                   5\n",
      "Price per item:                              10.00\n",
      "--------------------------------------------------\n",
      "AMOUNT:                                      50.00\n",
      "DISCOUNT:                                     1.00\n",
      "--------------------------------------------------\n",
      "Total Discount:                              49.00\n",
      "Tax:                                          1.47\n",
      "--------------------------------------------------\n",
      "TOTAL AMOUNT TO BE PAID:                     50.47\n",
      "                                                  \n"
     ]
    }
   ],
   "source": [
    "# Bill formation\n",
    "quantity = int(input(\"Enter quantity sold: \"))\n",
    "price_per_item = float(input(\"Enter price per item: \"))\n",
    "discount_percent = float(input(\"Enter discount %: \"))\n",
    "tax_percent = float(input(\"Enter tax %: \"))\n",
    "amount = quantity * price_per_item\n",
    "discount = amount * (discount_percent / 100)\n",
    "total_after_discount = amount - discount\n",
    "tax = total_after_discount * (tax_percent / 100)\n",
    "final_total = total_after_discount + tax\n",
    "print(\"********************** BILL *********************\")\n",
    "print(\" \"*50)\n",
    "print(('*'*22),\"BILL\",('*'*22))\n",
    "print(\" \"*50)\n",
    "print(\"{:<35}{:>15}\".format(\"Quantity Sold:\", quantity))\n",
    "print(\"{:<35}{:>15.2f}\".format(\"Price per item:\", price_per_item))\n",
    "print(\"-\"*50)\n",
    "print(\"{:<35}{:>15.2f}\".format(\"AMOUNT:\", amount))\n",
    "print(\"{:<35}{:>15.2f}\".format(\"DISCOUNT:\", discount))\n",
    "print(\"-\"*50)\n",
    "print(\"{:<35}{:>15.2f}\".format(\"Total Discount:\", total_after_discount))\n",
    "print(\"{:<35}{:>15.2f}\".format(\"Tax:\", tax))\n",
    "print(\"-\"*50)\n",
    "print(\"{:<35}{:>15.2f}\".format(\"TOTAL AMOUNT TO BE PAID:\", final_total))\n",
    "print(\" \"*50)\n"
   ]
  },
  {
   "cell_type": "code",
   "execution_count": 6,
   "id": "88be9f4b-ab8f-40e2-a3f0-aaa2b5718f06",
   "metadata": {},
   "outputs": [
    {
     "name": "stdin",
     "output_type": "stream",
     "text": [
      "Enter marks of Exam 1 (out of 100):  20\n",
      "Enter marks of Exam 2 (out of 100):  45\n",
      "Enter marks of Sports Event (out of 100):  65\n",
      "Enter marks of Activity 1 (out of 100):  45\n",
      "Enter marks of Activity 2 (out of 100):  66\n",
      "Enter marks of Activity 3 (out of 100):  33\n"
     ]
    },
    {
     "name": "stdout",
     "output_type": "stream",
     "text": [
      "\n",
      "******** STUDENT RESULT ********\n",
      "Exam Average (50%):       16.25\n",
      "Sports Marks (20%):       13.00\n",
      "Activity Average (30%):   14.40\n",
      "----------------------------------------\n",
      "Final Weighted Result:    43.65\n"
     ]
    }
   ],
   "source": [
    "# Result declaration\n",
    "exam1 = float(input(\"Enter marks of Exam 1 (out of 100): \"))\n",
    "exam2 = float(input(\"Enter marks of Exam 2 (out of 100): \"))\n",
    "sports = float(input(\"Enter marks of Sports Event (out of 100): \"))\n",
    "act1 = float(input(\"Enter marks of Activity 1 (out of 100): \"))\n",
    "act2 = float(input(\"Enter marks of Activity 2 (out of 100): \"))\n",
    "act3 = float(input(\"Enter marks of Activity 3 (out of 100): \"))\n",
    "exam_avg = (exam1 + exam2) / 2\n",
    "activity_avg = (act1 + act2 + act3) / 3\n",
    "weighted_exam = exam_avg * 0.50\n",
    "weighted_sports = sports * 0.20\n",
    "weighted_activity = activity_avg * 0.30\n",
    "final_result = weighted_exam + weighted_sports + weighted_activity\n",
    "print(\"\\n******** STUDENT RESULT ********\")\n",
    "print(f\"Exam Average (50%):       {weighted_exam:.2f}\")\n",
    "print(f\"Sports Marks (20%):       {weighted_sports:.2f}\")\n",
    "print(f\"Activity Average (30%):   {weighted_activity:.2f}\")\n",
    "print(f\"Final Weighted Result:    {final_result:.2f}\")\n"
   ]
  },
  {
   "cell_type": "code",
   "execution_count": 4,
   "id": "7ced88d8-a3ee-4ebc-bf29-1582f23afad3",
   "metadata": {},
   "outputs": [
    {
     "name": "stdin",
     "output_type": "stream",
     "text": [
      "Temperature in Fahrenheit:  37\n"
     ]
    },
    {
     "name": "stdout",
     "output_type": "stream",
     "text": [
      "Temperature in Celsius: 2.78\n"
     ]
    }
   ],
   "source": [
    "#Temperature converter\n",
    "fer = float(input(\"Temperature in Fahrenheit: \"))\n",
    "celsius = (fer-32)*5/9\n",
    "print(\"Temperature in Celsius:\", round(celsius,2))"
   ]
  },
  {
   "cell_type": "code",
   "execution_count": 7,
   "id": "2ce8dc9e-5428-4685-9a28-43b5e0a39a5c",
   "metadata": {},
   "outputs": [
    {
     "name": "stdin",
     "output_type": "stream",
     "text": [
      "Enter number of Rs.10 coins:  30\n",
      "Enter number of Rs.5 coins:  5\n",
      "Enter number of Rs.2 coins:  5\n",
      "Enter number of Rs.1 coins:  10\n"
     ]
    },
    {
     "name": "stdout",
     "output_type": "stream",
     "text": [
      "\n",
      "******** PIGGYBANK ********\n",
      "10 Rs coins: 30 -> 300\n",
      "5 Rs coins:  5 -> 25\n",
      "2 Rs coins:  5 -> 10\n",
      "1 Rs coins:  10 -> 10\n",
      "----------------------------\n",
      "Total Money in Piggybank: Rs. 345\n"
     ]
    }
   ],
   "source": [
    "# Piggybank Money Calculator\n",
    "coins_10 = int(input(\"Enter number of Rs.10 coins: \"))\n",
    "coins_5 = int(input(\"Enter number of Rs.5 coins: \"))\n",
    "coins_2 = int(input(\"Enter number of Rs.2 coins: \"))\n",
    "coins_1 = int(input(\"Enter number of Rs.1 coins: \"))\n",
    "total = (coins_10 * 10) + (coins_5 * 5) + (coins_2 * 2) + (coins_1 * 1)\n",
    "print(\"\\n******** PIGGYBANK ********\")\n",
    "print(f\"10 Rs coins: {coins_10} -> {coins_10*10}\")\n",
    "print(f\"5 Rs coins:  {coins_5} -> {coins_5*5}\")\n",
    "print(f\"2 Rs coins:  {coins_2} -> {coins_2*2}\")\n",
    "print(f\"1 Rs coins:  {coins_1} -> {coins_1*1}\")\n",
    "print(f\"Total Money in Piggybank: Rs. {total}\")"
   ]
  },
  {
   "cell_type": "code",
   "execution_count": null,
   "id": "5eaf1ff4-82b4-4732-9957-45277b973592",
   "metadata": {},
   "outputs": [],
   "source": []
  }
 ],
 "metadata": {
  "kernelspec": {
   "display_name": "Python 3 (ipykernel)",
   "language": "python",
   "name": "python3"
  },
  "language_info": {
   "codemirror_mode": {
    "name": "ipython",
    "version": 3
   },
   "file_extension": ".py",
   "mimetype": "text/x-python",
   "name": "python",
   "nbconvert_exporter": "python",
   "pygments_lexer": "ipython3",
   "version": "3.13.5"
  }
 },
 "nbformat": 4,
 "nbformat_minor": 5
}
